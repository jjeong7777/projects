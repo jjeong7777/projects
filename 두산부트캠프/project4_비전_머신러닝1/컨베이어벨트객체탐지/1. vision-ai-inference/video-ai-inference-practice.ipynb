{
 "cells": [
  {
   "cell_type": "code",
   "execution_count": 1,
   "metadata": {},
   "outputs": [],
   "source": [
    "import requests\n",
    "from requests.auth import HTTPBasicAuth"
   ]
  },
  {
   "cell_type": "code",
   "execution_count": 2,
   "metadata": {},
   "outputs": [],
   "source": [
    "URL = \"https://suite-endpoint-api-apne2.superb-ai.com/endpoints/3b38ff5e-cd49-4d00-a268-0f00df940520/inference\"\n",
    "ACCESS_KEY = \"sVuknNs5mQ3PeSkNkMtvx1mmCTJQsqGj5JqhzSb6\""
   ]
  },
  {
   "cell_type": "code",
   "execution_count": 3,
   "metadata": {},
   "outputs": [],
   "source": [
    "IMAGE_FILE_PATH = \"/home/jeonghan/image_box/256.jpg\" #90,110,158,[152,164,166,168]-빛?,276-초점/ 96구멍/ 134구멍에 붓셀??,136,192-붓셀2개?\n",
    "#290- ㅇㅅㅂ인식이미지잘려서\n",
    "\n",
    "#전체적으로 홀의 인식률이 많이 떨어짐 0% \n",
    "# 빛번짐으로 인한초점이안맞는 경우 - 152,164,166,168\n",
    "\n",
    "\n",
    "#298-5/290-4 유에스비짤림/276-1칩셋하나인식/\n",
    "\n",
    "#정확도를 높이기위한해결방법\n",
    "#유에스비 영역조금 더작게-> 구멍인식률을 높이기??\n",
    "#"
   ]
  },
  {
   "cell_type": "code",
   "execution_count": 4,
   "metadata": {},
   "outputs": [],
   "source": [
    "image = open(IMAGE_FILE_PATH, \"rb\").read() # Python에서 이미지를 바이너리 모드로 열고 읽어들임"
   ]
  },
  {
   "cell_type": "code",
   "execution_count": 5,
   "metadata": {},
   "outputs": [],
   "source": [
    "response = requests.post( #requests 라이브러리를 사용하여 HTTP POST 요청/ 이미지를 서버에 전송\n",
    "    url=URL,\n",
    "    auth=HTTPBasicAuth(\"kdt2024_1-5\", ACCESS_KEY), #팀정보, 엑세스키\n",
    "    headers={\"Content-Type\": \"image/jpeg\"},\n",
    "    data=image,\n",
    ")"
   ]
  },
  {
   "cell_type": "code",
   "execution_count": 6,
   "metadata": {},
   "outputs": [
    {
     "name": "stdout",
     "output_type": "stream",
     "text": [
      "{'objects': [{'class': 'RASPBERRY PICO', 'score': 0.8948777318000793, 'box': [156, 259, 375, 591]}, {'class': 'USB', 'score': 0.7243542075157166, 'box': [285, 529, 342, 584]}, {'class': 'CHIPSET', 'score': 0.5630953907966614, 'box': [234, 385, 291, 438]}, {'class': 'OSCILLATOR', 'score': 0.4605947732925415, 'box': [249, 350, 277, 370]}, {'class': 'BOOTSEL', 'score': 0.3982420265674591, 'box': [299, 471, 327, 504]}, {'class': 'HOLE', 'score': 0.2898400127887726, 'box': [248, 266, 258, 277]}]}\n"
     ]
    },
    {
     "data": {
      "text/plain": [
       "200"
      ]
     },
     "execution_count": 6,
     "metadata": {},
     "output_type": "execute_result"
    }
   ],
   "source": [
    "print(response.json()) #서버의 응답 본문을 JSON 형식으로 파싱하여 Python 객체로 변환\n",
    "\n",
    "# {'objects': [{'class': 'RASPBERRY PICO', 'score': 0.822075605392456, \n",
    "# 'box': [173, 280, 436, 606]}, {'class': 'HOLE', 'score': 0.4158550500869751, \n",
    "# 'box': [251, 295, 264, 309]}, {'class': 'USB', 'score': 0.39888837933540344, \n",
    "# 'box': [357, 533, 416, 593]}, {'class': 'HOLE', 'score': 0.2648520767688751, \n",
    "# 'box': [246, 295, 260, 313]}, {'class': 'CHIPSET', 'score': 0.2622401714324951, \n",
    "# 'box': [270, 403, 334, 463]}]}\n",
    "\n",
    "response.status_code  # 4 is bad\n"
   ]
  },
  {
   "cell_type": "code",
   "execution_count": 7,
   "metadata": {},
   "outputs": [
    {
     "name": "stdout",
     "output_type": "stream",
     "text": [
      "[{'class': 'RASPBERRY PICO', 'start_point': [156, 259], 'end_point': [375, 591]}, {'class': 'USB', 'start_point': [285, 529], 'end_point': [342, 584]}, {'class': 'CHIPSET', 'start_point': [234, 385], 'end_point': [291, 438]}, {'class': 'OSCILLATOR', 'start_point': [249, 350], 'end_point': [277, 370]}, {'class': 'BOOTSEL', 'start_point': [299, 471], 'end_point': [327, 504]}, {'class': 'HOLE', 'start_point': [248, 266], 'end_point': [258, 277]}]\n"
     ]
    }
   ],
   "source": [
    "import cv2\n",
    "# response.json() -> class/start/end\n",
    "\n",
    "# 변환된 결과를 저장할 리스트\n",
    "transformed_objects = []\n",
    "data = response.json()\n",
    "# 데이터 변환\n",
    "for obj in data[\"objects\"]:\n",
    "    transformed_obj = {\n",
    "        \"class\": obj[\"class\"],\n",
    "        \"start_point\": [obj[\"box\"][0], obj[\"box\"][1]], #box 첫번째 두번째값\n",
    "        \"end_point\": [obj[\"box\"][2], obj[\"box\"][3]] #box 두번째 세번째값을 \n",
    "    }\n",
    "    transformed_objects.append(transformed_obj)\n",
    "\n",
    "# 변환 결과 출력\n",
    "print(transformed_objects)\n"
   ]
  },
  {
   "cell_type": "code",
   "execution_count": 8,
   "metadata": {},
   "outputs": [
    {
     "name": "stderr",
     "output_type": "stream",
     "text": [
      "qt.qpa.plugin: Could not find the Qt platform plugin \"wayland\" in \"/home/jeonghan/.local/lib/python3.10/site-packages/cv2/qt/plugins\"\n"
     ]
    }
   ],
   "source": [
    "import cv2\n",
    "\n",
    "# 이미지 파일 경로 설정\n",
    "img = cv2.imread(IMAGE_FILE_PATH)\n",
    "\n",
    "# 이미지가 제대로 로드되었는지 확인\n",
    "if img is not None:\n",
    "    # 주어진 객체 정보 리스트\n",
    "    object_list = transformed_objects\n",
    "\n",
    "    # 각 클래스에 따른 색상 설정 (BGR 형식)\n",
    "    color_map = {\n",
    "        'RASPBERRY PICO': (0, 0, 255),   # 빨간색\n",
    "        'HOLE': (255, 0, 0),             # 파란색\n",
    "        'BOOTSEL': (0, 165, 255),        # 주황색\n",
    "        'OSCILLATOR': (0, 255, 0),       # 초록색\n",
    "        'USB': (0, 255, 255),            # 노란색\n",
    "        'CHIPSET': (255, 0, 255)         # 보라색\n",
    "    }\n",
    "\n",
    "    thickness = 2  # 박스 선의 두께\n",
    "\n",
    "    #count \n",
    "    # 각 객체에 대해 박스 그리기\n",
    "    for obj in object_list:\n",
    "        class_name = obj['class'] #객체의 클래스 이름을가져옴\n",
    "        start_point = tuple(obj['start_point']) #튜플로 변환 하여 start_point와 end_point에 저장\n",
    "        end_point = tuple(obj['end_point'])\n",
    "        \n",
    "        # 클래스에 해당하는 색상 가져오기\n",
    "        color = color_map.get(class_name, (255, 255, 255))  # 기본값은 흰색\n",
    "        \n",
    "        # 박스 그리기\n",
    "        cv2.rectangle(img, start_point, end_point, color, thickness)\n",
    "        \n",
    "        # 클래스 이름을 박스 위에 텍스트로 표시\n",
    "        cv2.putText(img, class_name, (start_point[0], start_point[1] - 10), #텍스트의 위치는 바운딩 박스의 좌상단 바로 위로 설정합니다.\n",
    "                    cv2.FONT_HERSHEY_SIMPLEX, 0.5, color, 1)\n",
    "\n",
    "    # 결과 이미지 표시\n",
    "    cv2.imshow(\"Annotated Image\", img)\n",
    "    cv2.waitKey(0)\n",
    "    cv2.destroyAllWindows()\n",
    "else:\n",
    "    print(\"이미지를 불러오지 못했습니다. 경로를 확인하세요.\")"
   ]
  },
  {
   "cell_type": "code",
   "execution_count": 9,
   "metadata": {},
   "outputs": [
    {
     "data": {
      "text/plain": [
       "'\\nimport cv2\\n# 이미지 불러오기# 이미지 파일 경로 설정\\nimg = cv2.imread(img_path)\\ncv2.imshow(\"Image\", img)\\ncv2.waitKey(0)\\ncv2.destroyAllWindows()'"
      ]
     },
     "execution_count": 9,
     "metadata": {},
     "output_type": "execute_result"
    }
   ],
   "source": [
    "'''\n",
    "import cv2\n",
    "# 이미지 불러오기# 이미지 파일 경로 설정\n",
    "img = cv2.imread(img_path)\n",
    "cv2.imshow(\"Image\", img)\n",
    "cv2.waitKey(0)\n",
    "cv2.destroyAllWindows()'''\n"
   ]
  },
  {
   "cell_type": "code",
   "execution_count": 10,
   "metadata": {},
   "outputs": [
    {
     "data": {
      "text/plain": [
       "200"
      ]
     },
     "execution_count": 10,
     "metadata": {},
     "output_type": "execute_result"
    }
   ],
   "source": [
    "response.status_code  # 4 is bad"
   ]
  }
 ],
 "metadata": {
  "kernelspec": {
   "display_name": "Python 3",
   "language": "python",
   "name": "python3"
  },
  "language_info": {
   "codemirror_mode": {
    "name": "ipython",
    "version": 3
   },
   "file_extension": ".py",
   "mimetype": "text/x-python",
   "name": "python",
   "nbconvert_exporter": "python",
   "pygments_lexer": "ipython3",
   "version": "3.10.12"
  }
 },
 "nbformat": 4,
 "nbformat_minor": 2
}
