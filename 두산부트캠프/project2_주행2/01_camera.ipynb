{
 "cells": [
  {
   "cell_type": "markdown",
   "metadata": {},
   "source": [
    "### 실습1 ###\n",
    "이미지를 camera parameter에 맞춰 undistort해봅시다."
   ]
  },
  {
   "cell_type": "code",
   "execution_count": 1,
   "metadata": {},
   "outputs": [],
   "source": [
    "import cv2\n",
    "import numpy as np\n",
    "\n",
    "# 경로를 제공해주세요.\n",
    "image_file = '/home/jeonghan/대면수업/주행2/datas/kitti/2011_09_26_drive_0035_extract/image_02/data/0000000000.png'\n",
    "image = cv2.imread(image_file)"
   ]
  },
  {
   "cell_type": "markdown",
   "metadata": {},
   "source": [
    "이제, numpy를 이용해서 K와 D를 정의해주세요."
   ]
  },
  {
   "cell_type": "code",
   "execution_count": 2,
   "metadata": {},
   "outputs": [],
   "source": [
    "# K = np.array([\n",
    "#     [fx,0,cx],\n",
    "#     [0,fy,cy],\n",
    "#     [0,0,1]\n",
    "# ], dtype=np.float32)\n",
    "\n",
    "K = np.array([\n",
    "    [984.2439,0,690],\n",
    "    [0,980.8141,233.1966],\n",
    "    [0,0,1]\n",
    "], dtype=np.float32)\n",
    "\n",
    "# D = np.array([k1,k2,p1,p2,k3], dtype=np.float32)\n",
    "D = np.array([-0.3728755, 0.2037299, 0.002219027, 0.001383707, -0.07233722], dtype=np.float32)"
   ]
  },
  {
   "cell_type": "markdown",
   "metadata": {},
   "source": [
    "**Option1. 직접 undistort**\n",
    "\n",
    "이 방법은 기본형입니다. 이 아래에서, 다른 옵션에 대해 살펴봅시다."
   ]
  },
  {
   "cell_type": "code",
   "execution_count": 3,
   "metadata": {},
   "outputs": [
    {
     "data": {
      "text/plain": [
       "-1"
      ]
     },
     "execution_count": 3,
     "metadata": {},
     "output_type": "execute_result"
    }
   ],
   "source": [
    "undistorted_image = cv2.undistort(image, K, D)\n",
    "\n",
    "# cv2.imshow('undistorted image',undistorted_image)\n",
    "cv2.waitKey(0)"
   ]
  },
  {
   "cell_type": "markdown",
   "metadata": {},
   "source": [
    "아래 함수를 실행하면, 윈도우가 꺼집니다.\n",
    "\n",
    "윈도우를 종료하고싶으면 이 셀을 실행시켜주세요."
   ]
  },
  {
   "cell_type": "code",
   "execution_count": null,
   "metadata": {},
   "outputs": [],
   "source": [
    "cv2.destroyAllWindows()"
   ]
  },
  {
   "cell_type": "markdown",
   "metadata": {},
   "source": [
    "위 아래로 나란히 두고 비교해봅시다."
   ]
  },
  {
   "cell_type": "code",
   "execution_count": 9,
   "metadata": {},
   "outputs": [
    {
     "name": "stderr",
     "output_type": "stream",
     "text": [
      "qt.qpa.plugin: Could not find the Qt platform plugin \"wayland\" in \"/home/jeonghan/대면수업/주행2/kdt_slam/lib/python3.10/site-packages/cv2/qt/plugins\"\n"
     ]
    }
   ],
   "source": [
    "stacked_image = np.vstack((image, undistorted_image))\n",
    "cv2.imshow('compare',stacked_image)\n",
    "cv2.waitKey(0)"
   ]
  },
  {
   "cell_type": "markdown",
   "metadata": {},
   "source": [
    "**Option2. Map 사용**\n",
    "\n",
    "그런데 이런 undistort는 매번 매 픽셀이 어디로 가야할지 계산을 전부 해줘야합니다.\n",
    "\n",
    "당연히 computation이 꽤 필요하겠죠?\n",
    "\n",
    "이 때, 미리 각 픽셀이 어디로 이동해야하는지 계산해둔 map이미지를 쓸 수 있습니다.\n",
    "\n",
    "map을 미리 계산해서 들고있다가, 이미지가 오면 map정보를 이용해서 픽셀만 옮겨주면 됩니다."
   ]
  },
  {
   "cell_type": "code",
   "execution_count": 5,
   "metadata": {},
   "outputs": [],
   "source": [
    "height, width, _ = image.shape\n",
    "mapx, mapy = cv2.initUndistortRectifyMap(K, D, None, K, (width, height), cv2.CV_32FC1)"
   ]
  },
  {
   "cell_type": "code",
   "execution_count": 6,
   "metadata": {},
   "outputs": [
    {
     "name": "stderr",
     "output_type": "stream",
     "text": [
      "qt.qpa.plugin: Could not find the Qt platform plugin \"wayland\" in \"/home/jeonghan/대면수업/주행2/kdt_slam/lib/python3.10/site-packages/cv2/qt/plugins\"\n"
     ]
    }
   ],
   "source": [
    "remapped_image = cv2.remap(image, mapx,mapy, cv2.INTER_LINEAR)\n",
    "cv2.imshow('remapped_image',remapped_image)\n",
    "cv2.waitKey(0)"
   ]
  }
 ],
 "metadata": {
  "kernelspec": {
   "display_name": "kdt_slam",
   "language": "python",
   "name": "python3"
  },
  "language_info": {
   "codemirror_mode": {
    "name": "ipython",
    "version": 3
   },
   "file_extension": ".py",
   "mimetype": "text/x-python",
   "name": "python",
   "nbconvert_exporter": "python",
   "pygments_lexer": "ipython3",
   "version": "3.10.12"
  }
 },
 "nbformat": 4,
 "nbformat_minor": 2
}
